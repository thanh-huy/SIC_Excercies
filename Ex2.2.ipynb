{
 "cells": [
  {
   "cell_type": "markdown",
   "id": "4d9892f4-f708-4e11-888e-ff45fee0accc",
   "metadata": {},
   "source": [
    "# 1. Kiểu String trong python\n",
    "## 1.1 Cơ bản"
   ]
  },
  {
   "cell_type": "code",
   "execution_count": 2,
   "id": "25340d35-780d-4555-afef-4ca7d80005d8",
   "metadata": {},
   "outputs": [
    {
     "name": "stdout",
     "output_type": "stream",
     "text": [
      "An thông báo: 'Tôi sẽ học AI'\n"
     ]
    }
   ],
   "source": [
    "# In xâu ký tự với cặp ' ' và \" \"\n",
    "print(\"An thông báo: 'Tôi sẽ học AI'\")"
   ]
  },
  {
   "cell_type": "code",
   "execution_count": 4,
   "id": "b3f75fb2-8e51-4860-b535-19d1ad7275b1",
   "metadata": {},
   "outputs": [
    {
     "name": "stdout",
     "output_type": "stream",
     "text": [
      "An thông báo: \"Tôi sẽ học AI\"\n"
     ]
    }
   ],
   "source": [
    "print('An thông báo: \"Tôi sẽ học AI\"')"
   ]
  },
  {
   "cell_type": "markdown",
   "id": "b5b9be27-5c46-42cb-af61-082967e8e8d6",
   "metadata": {},
   "source": [
    "## 1.2. Ghép xâu ký tự +"
   ]
  },
  {
   "cell_type": "code",
   "execution_count": 7,
   "id": "9dd483c1-794a-4286-a06f-2dc44f907141",
   "metadata": {},
   "outputs": [
    {
     "name": "stdout",
     "output_type": "stream",
     "text": [
      "Trí tuệ nhân tạo;Học máy;\n"
     ]
    }
   ],
   "source": [
    "str1 = \"Học máy;\"\n",
    "str2 = \"Trí tuệ nhân tạo; \"\n",
    "print(str2 + str1)"
   ]
  },
  {
   "cell_type": "markdown",
   "id": "06a15403-11b5-4d36-b610-a5b678ba97ab",
   "metadata": {},
   "source": [
    "## 1.3. In lặp nhiều đoạn"
   ]
  },
  {
   "cell_type": "code",
   "execution_count": 9,
   "id": "9484b0fd-fca4-4132-b48e-fb1ad9530805",
   "metadata": {},
   "outputs": [
    {
     "name": "stdout",
     "output_type": "stream",
     "text": [
      "Học máy;Học máy;Học máy;Học máy;Học máy;\n"
     ]
    }
   ],
   "source": [
    "print(str1*5)"
   ]
  },
  {
   "cell_type": "markdown",
   "id": "0b72db5a-c02b-48a6-9789-059629357d96",
   "metadata": {},
   "source": [
    "## 1.4. Chỉ số và cắt xâu ký tự"
   ]
  },
  {
   "cell_type": "code",
   "execution_count": 14,
   "id": "31e415d1-20d1-497f-abd8-ea25a7e35b97",
   "metadata": {},
   "outputs": [
    {
     "name": "stdout",
     "output_type": "stream",
     "text": [
      "T\n",
      "n\n",
      "Tôi\n",
      "bắt đầu học Python\n"
     ]
    }
   ],
   "source": [
    "str = 'Tôi bắt đầu học Python'\n",
    "print(str[0])\n",
    "print(str[-1])\n",
    "print(str[0:3])\n",
    "print(str[4:])"
   ]
  },
  {
   "cell_type": "markdown",
   "id": "49a6ddcc-c22f-4efe-897b-15e6fd1277ca",
   "metadata": {},
   "source": [
    "## 1.5 Các hàm xử lý xâu ký tự\n"
   ]
  },
  {
   "cell_type": "code",
   "execution_count": 17,
   "id": "f9b26a71-0e53-47ee-b79c-634aa4062e2b",
   "metadata": {},
   "outputs": [
    {
     "name": "stdout",
     "output_type": "stream",
     "text": [
      "14\n"
     ]
    }
   ],
   "source": [
    "str = 'Tôi học Python'\n",
    "print(len(str))"
   ]
  },
  {
   "cell_type": "code",
   "execution_count": 19,
   "id": "88a6dfda-31d0-4e14-b7cb-3f22711acc83",
   "metadata": {},
   "outputs": [
    {
     "data": {
      "text/plain": [
       "2"
      ]
     },
     "execution_count": 19,
     "metadata": {},
     "output_type": "execute_result"
    }
   ],
   "source": [
    "str.count('h')"
   ]
  },
  {
   "cell_type": "code",
   "execution_count": 21,
   "id": "48e109fe-5436-4656-92ea-212cc6143c5d",
   "metadata": {},
   "outputs": [
    {
     "data": {
      "text/plain": [
       "'TÔI HỌC PYTHON'"
      ]
     },
     "execution_count": 21,
     "metadata": {},
     "output_type": "execute_result"
    }
   ],
   "source": [
    "str.upper() # str.lower()"
   ]
  },
  {
   "cell_type": "code",
   "execution_count": 23,
   "id": "b45cc283-578a-4213-8ac4-9176ae683b27",
   "metadata": {},
   "outputs": [
    {
     "data": {
      "text/plain": [
       "5"
      ]
     },
     "execution_count": 23,
     "metadata": {},
     "output_type": "execute_result"
    }
   ],
   "source": [
    "str.find('ọ')"
   ]
  },
  {
   "cell_type": "code",
   "execution_count": 25,
   "id": "aad3b927-5211-4147-8989-cd24ad7bc689",
   "metadata": {},
   "outputs": [
    {
     "data": {
      "text/plain": [
       "5"
      ]
     },
     "execution_count": 25,
     "metadata": {},
     "output_type": "execute_result"
    }
   ],
   "source": [
    "str.index('ọ')"
   ]
  },
  {
   "cell_type": "code",
   "execution_count": 27,
   "id": "0b4ec3a0-9b2b-4b71-8b7b-fe92e180d6a6",
   "metadata": {},
   "outputs": [
    {
     "data": {
      "text/plain": [
       "-1"
      ]
     },
     "execution_count": 27,
     "metadata": {},
     "output_type": "execute_result"
    }
   ],
   "source": [
    "str.find('w')"
   ]
  },
  {
   "cell_type": "code",
   "execution_count": 29,
   "id": "7a323ebf-f2a3-4037-a155-96150e87e4a9",
   "metadata": {},
   "outputs": [
    {
     "ename": "ValueError",
     "evalue": "substring not found",
     "output_type": "error",
     "traceback": [
      "\u001b[1;31m---------------------------------------------------------------------------\u001b[0m",
      "\u001b[1;31mValueError\u001b[0m                                Traceback (most recent call last)",
      "Cell \u001b[1;32mIn[29], line 1\u001b[0m\n\u001b[1;32m----> 1\u001b[0m \u001b[38;5;28mstr\u001b[39m\u001b[38;5;241m.\u001b[39mindex(\u001b[38;5;124m'\u001b[39m\u001b[38;5;124mw\u001b[39m\u001b[38;5;124m'\u001b[39m)\n",
      "\u001b[1;31mValueError\u001b[0m: substring not found"
     ]
    }
   ],
   "source": [
    "str.index('w') # Lỗi vì không tồn tại"
   ]
  },
  {
   "cell_type": "markdown",
   "id": "186121d6-c06a-4bc7-865e-91b2dbc58a81",
   "metadata": {},
   "source": [
    "# 2. Kiểu logic"
   ]
  },
  {
   "cell_type": "markdown",
   "id": "b22da422-0f01-46d8-8f6c-ec1fe36e9d0e",
   "metadata": {},
   "source": [
    "## 2.1. Toán tử logic"
   ]
  },
  {
   "cell_type": "code",
   "execution_count": 35,
   "id": "480db52b-0f58-4108-9dbb-79cad5f6f98c",
   "metadata": {},
   "outputs": [
    {
     "data": {
      "text/plain": [
       "False"
      ]
     },
     "execution_count": 35,
     "metadata": {},
     "output_type": "execute_result"
    }
   ],
   "source": [
    "3>5"
   ]
  },
  {
   "cell_type": "code",
   "execution_count": 37,
   "id": "ae0a94dc-f535-4d5f-9709-0f029c65eceb",
   "metadata": {},
   "outputs": [
    {
     "data": {
      "text/plain": [
       "True"
      ]
     },
     "execution_count": 37,
     "metadata": {},
     "output_type": "execute_result"
    }
   ],
   "source": [
    "x=5\n",
    "x > 2 and x < 10"
   ]
  },
  {
   "cell_type": "code",
   "execution_count": null,
   "id": "c1c81853-9843-4ab9-ab7d-0296d7cc257d",
   "metadata": {},
   "outputs": [],
   "source": []
  }
 ],
 "metadata": {
  "kernelspec": {
   "display_name": "Python 3 (ipykernel)",
   "language": "python",
   "name": "python3"
  },
  "language_info": {
   "codemirror_mode": {
    "name": "ipython",
    "version": 3
   },
   "file_extension": ".py",
   "mimetype": "text/x-python",
   "name": "python",
   "nbconvert_exporter": "python",
   "pygments_lexer": "ipython3",
   "version": "3.12.4"
  }
 },
 "nbformat": 4,
 "nbformat_minor": 5
}
