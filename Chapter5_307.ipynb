{
  "nbformat": 4,
  "nbformat_minor": 0,
  "metadata": {
    "colab": {
      "provenance": [],
      "authorship_tag": "ABX9TyPPUQgp7T+Ivv2daV7A2l0/",
      "include_colab_link": true
    },
    "kernelspec": {
      "name": "python3",
      "display_name": "Python 3"
    },
    "language_info": {
      "name": "python"
    }
  },
  "cells": [
    {
      "cell_type": "markdown",
      "metadata": {
        "id": "view-in-github",
        "colab_type": "text"
      },
      "source": [
        "<a href=\"https://colab.research.google.com/github/thanh-huy/SIC_Excercies/blob/main/Chapter5_307.ipynb\" target=\"_parent\"><img src=\"https://colab.research.google.com/assets/colab-badge.svg\" alt=\"Open In Colab\"/></a>"
      ]
    },
    {
      "cell_type": "code",
      "execution_count": null,
      "metadata": {
        "id": "q3tU_TvkYA2t"
      },
      "outputs": [],
      "source": [
        "import numpy as np\n",
        "import pandas as pd\n",
        "import matplotlib.pyplot as plt\n",
        "import seaborn as sns\n",
        "from sklearn.datasets import load_breast_cancer\n",
        "from sklearn.model_selection import train_test_split\n",
        "from sklearn.linear_model import LogisticRegression\n",
        "from sklearn.metrics import confusion_matrix, classification_report, roc_curve, roc_auc_score\n",
        "%matplotlib inline\n"
      ]
    },
    {
      "cell_type": "code",
      "source": [
        "cancer_data = load_breast_cancer()\n",
        "print(cancer_data.DESCR)"
      ],
      "metadata": {
        "colab": {
          "base_uri": "https://localhost:8080/"
        },
        "id": "Ci_aVkbZYluu",
        "outputId": "402e32a2-e616-485d-9339-e2aed37fc7e0"
      },
      "execution_count": null,
      "outputs": [
        {
          "output_type": "stream",
          "name": "stdout",
          "text": [
            ".. _breast_cancer_dataset:\n",
            "\n",
            "Breast cancer wisconsin (diagnostic) dataset\n",
            "--------------------------------------------\n",
            "\n",
            "**Data Set Characteristics:**\n",
            "\n",
            ":Number of Instances: 569\n",
            "\n",
            ":Number of Attributes: 30 numeric, predictive attributes and the class\n",
            "\n",
            ":Attribute Information:\n",
            "    - radius (mean of distances from center to points on the perimeter)\n",
            "    - texture (standard deviation of gray-scale values)\n",
            "    - perimeter\n",
            "    - area\n",
            "    - smoothness (local variation in radius lengths)\n",
            "    - compactness (perimeter^2 / area - 1.0)\n",
            "    - concavity (severity of concave portions of the contour)\n",
            "    - concave points (number of concave portions of the contour)\n",
            "    - symmetry\n",
            "    - fractal dimension (\"coastline approximation\" - 1)\n",
            "\n",
            "    The mean, standard error, and \"worst\" or largest (mean of the three\n",
            "    worst/largest values) of these features were computed for each image,\n",
            "    resulting in 30 features.  For instance, field 0 is Mean Radius, field\n",
            "    10 is Radius SE, field 20 is Worst Radius.\n",
            "\n",
            "    - class:\n",
            "            - WDBC-Malignant\n",
            "            - WDBC-Benign\n",
            "\n",
            ":Summary Statistics:\n",
            "\n",
            "===================================== ====== ======\n",
            "                                        Min    Max\n",
            "===================================== ====== ======\n",
            "radius (mean):                        6.981  28.11\n",
            "texture (mean):                       9.71   39.28\n",
            "perimeter (mean):                     43.79  188.5\n",
            "area (mean):                          143.5  2501.0\n",
            "smoothness (mean):                    0.053  0.163\n",
            "compactness (mean):                   0.019  0.345\n",
            "concavity (mean):                     0.0    0.427\n",
            "concave points (mean):                0.0    0.201\n",
            "symmetry (mean):                      0.106  0.304\n",
            "fractal dimension (mean):             0.05   0.097\n",
            "radius (standard error):              0.112  2.873\n",
            "texture (standard error):             0.36   4.885\n",
            "perimeter (standard error):           0.757  21.98\n",
            "area (standard error):                6.802  542.2\n",
            "smoothness (standard error):          0.002  0.031\n",
            "compactness (standard error):         0.002  0.135\n",
            "concavity (standard error):           0.0    0.396\n",
            "concave points (standard error):      0.0    0.053\n",
            "symmetry (standard error):            0.008  0.079\n",
            "fractal dimension (standard error):   0.001  0.03\n",
            "radius (worst):                       7.93   36.04\n",
            "texture (worst):                      12.02  49.54\n",
            "perimeter (worst):                    50.41  251.2\n",
            "area (worst):                         185.2  4254.0\n",
            "smoothness (worst):                   0.071  0.223\n",
            "compactness (worst):                  0.027  1.058\n",
            "concavity (worst):                    0.0    1.252\n",
            "concave points (worst):               0.0    0.291\n",
            "symmetry (worst):                     0.156  0.664\n",
            "fractal dimension (worst):            0.055  0.208\n",
            "===================================== ====== ======\n",
            "\n",
            ":Missing Attribute Values: None\n",
            "\n",
            ":Class Distribution: 212 - Malignant, 357 - Benign\n",
            "\n",
            ":Creator:  Dr. William H. Wolberg, W. Nick Street, Olvi L. Mangasarian\n",
            "\n",
            ":Donor: Nick Street\n",
            "\n",
            ":Date: November, 1995\n",
            "\n",
            "This is a copy of UCI ML Breast Cancer Wisconsin (Diagnostic) datasets.\n",
            "https://goo.gl/U2Uwz2\n",
            "\n",
            "Features are computed from a digitized image of a fine needle\n",
            "aspirate (FNA) of a breast mass.  They describe\n",
            "characteristics of the cell nuclei present in the image.\n",
            "\n",
            "Separating plane described above was obtained using\n",
            "Multisurface Method-Tree (MSM-T) [K. P. Bennett, \"Decision Tree\n",
            "Construction Via Linear Programming.\" Proceedings of the 4th\n",
            "Midwest Artificial Intelligence and Cognitive Science Society,\n",
            "pp. 97-101, 1992], a classification method which uses linear\n",
            "programming to construct a decision tree.  Relevant features\n",
            "were selected using an exhaustive search in the space of 1-4\n",
            "features and 1-3 separating planes.\n",
            "\n",
            "The actual linear program used to obtain the separating plane\n",
            "in the 3-dimensional space is that described in:\n",
            "[K. P. Bennett and O. L. Mangasarian: \"Robust Linear\n",
            "Programming Discrimination of Two Linearly Inseparable Sets\",\n",
            "Optimization Methods and Software 1, 1992, 23-34].\n",
            "\n",
            "This database is also available through the UW CS ftp server:\n",
            "\n",
            "ftp ftp.cs.wisc.edu\n",
            "cd math-prog/cpo-dataset/machine-learn/WDBC/\n",
            "\n",
            ".. dropdown:: References\n",
            "\n",
            "  - W.N. Street, W.H. Wolberg and O.L. Mangasarian. Nuclear feature extraction\n",
            "    for breast tumor diagnosis. IS&T/SPIE 1993 International Symposium on\n",
            "    Electronic Imaging: Science and Technology, volume 1905, pages 861-870,\n",
            "    San Jose, CA, 1993.\n",
            "  - O.L. Mangasarian, W.N. Street and W.H. Wolberg. Breast cancer diagnosis and\n",
            "    prognosis via linear programming. Operations Research, 43(4), pages 570-577,\n",
            "    July-August 1995.\n",
            "  - W.H. Wolberg, W.N. Street, and O.L. Mangasarian. Machine learning techniques\n",
            "    to diagnose breast cancer from fine-needle aspirates. Cancer Letters 77 (1994)\n",
            "    163-171.\n",
            "\n"
          ]
        }
      ]
    },
    {
      "cell_type": "code",
      "source": [
        "#Xem xét các biến giải thích\n",
        "X = cancer_data.data\n",
        "print(cancer_data['feature_names'])\n",
        "X.shape"
      ],
      "metadata": {
        "colab": {
          "base_uri": "https://localhost:8080/"
        },
        "id": "l4QoO-ORY9IL",
        "outputId": "c1cb5205-ff37-45bc-d75e-7516c364e77a"
      },
      "execution_count": null,
      "outputs": [
        {
          "output_type": "stream",
          "name": "stdout",
          "text": [
            "['mean radius' 'mean texture' 'mean perimeter' 'mean area'\n",
            " 'mean smoothness' 'mean compactness' 'mean concavity'\n",
            " 'mean concave points' 'mean symmetry' 'mean fractal dimension'\n",
            " 'radius error' 'texture error' 'perimeter error' 'area error'\n",
            " 'smoothness error' 'compactness error' 'concavity error'\n",
            " 'concave points error' 'symmetry error' 'fractal dimension error'\n",
            " 'worst radius' 'worst texture' 'worst perimeter' 'worst area'\n",
            " 'worst smoothness' 'worst compactness' 'worst concavity'\n",
            " 'worst concave points' 'worst symmetry' 'worst fractal dimension']\n"
          ]
        },
        {
          "output_type": "execute_result",
          "data": {
            "text/plain": [
              "(569, 30)"
            ]
          },
          "metadata": {},
          "execution_count": 5
        }
      ]
    },
    {
      "cell_type": "code",
      "source": [
        "#Xem xét biến phản hồi\n",
        "Y = 1 - cancer_data.target\n",
        "label = list(cancer_data['target_names'])\n",
        "label.reverse()\n",
        "# benign - lành tính\n",
        "# malignant - ác tính\n",
        "print(label)"
      ],
      "metadata": {
        "colab": {
          "base_uri": "https://localhost:8080/"
        },
        "id": "R28g-1iXZeUS",
        "outputId": "ae21d07e-c83c-4465-87ae-f4c1afc2016e"
      },
      "execution_count": null,
      "outputs": [
        {
          "output_type": "stream",
          "name": "stdout",
          "text": [
            "[np.str_('benign'), np.str_('malignant')]\n"
          ]
        }
      ]
    },
    {
      "cell_type": "code",
      "source": [
        "#Vẽ biểu đồ tần suất\n",
        "ser = pd.Series(Y)\n",
        "table = ser.value_counts()\n",
        "table = table.sort_index()\n",
        "raw_data = {\"x\":label,'y':table.values}\n",
        "sns.barplot(x='x',y='y',data=raw_data)\n",
        "plt.show()"
      ],
      "metadata": {
        "colab": {
          "base_uri": "https://localhost:8080/",
          "height": 449
        },
        "id": "xe-L96eXaaCJ",
        "outputId": "7bbc37b3-a8e4-4c7d-ca0e-fd05d78ae0bc"
      },
      "execution_count": null,
      "outputs": [
        {
          "output_type": "display_data",
          "data": {
            "text/plain": [
              "<Figure size 640x480 with 1 Axes>"
            ],
            "image/png": "[encoded data removed]"
          },
          "metadata": {}
        }
      ]
    },
    {
      "cell_type": "markdown",
      "source": [
        "Train và Test"
      ],
      "metadata": {
        "id": "GiLQIvfEbXEO"
      }
    },
    {
      "cell_type": "code",
      "source": [
        "X_train, X_test, Y_train, Y_test = train_test_split(X, Y, test_size=0.3, random_state=1234)\n",
        "LL = LogisticRegression(solver='liblinear', max_iter=300)\n",
        "LL.fit(X_train, Y_train)\n",
        "Y_pred_test = LL.predict(X_test)\n",
        "print(Y_pred_test)"
      ],
      "metadata": {
        "colab": {
          "base_uri": "https://localhost:8080/"
        },
        "id": "Xpo3hJ39bbd-",
        "outputId": "e647a9b0-9937-4968-8b2b-561a13a43f1d"
      },
      "execution_count": null,
      "outputs": [
        {
          "output_type": "stream",
          "name": "stdout",
          "text": [
            "[0 0 0 0 0 0 1 0 1 1 1 0 0 0 0 1 0 0 0 1 0 1 1 1 1 0 1 0 0 0 0 0 1 0 0 0 0\n",
            " 1 1 0 1 0 1 0 0 0 0 0 1 0 0 0 0 1 1 0 0 0 0 1 0 0 0 0 0 1 1 0 0 0 0 1 0 0\n",
            " 0 0 0 1 0 1 0 0 0 0 1 1 1 1 0 0 0 0 0 1 1 0 0 0 0 0 1 1 0 0 1 0 0 1 1 0 1\n",
            " 1 1 1 0 0 0 1 0 0 0 0 0 0 1 0 1 1 0 0 1 0 1 0 1 0 0 1 0 1 0 1 1 0 1 0 0 0\n",
            " 1 0 0 0 1 0 0 1 0 1 1 1 0 0 1 0 0 1 0 0 0 0 1]\n"
          ]
        }
      ]
    },
    {
      "cell_type": "markdown",
      "source": [
        "Đánh giá độ đo"
      ],
      "metadata": {
        "id": "UOc5Bdmlb12R"
      }
    },
    {
      "cell_type": "code",
      "source": [
        "conf_mat = confusion_matrix(Y_test, Y_pred_test)\n",
        "print(conf_mat)"
      ],
      "metadata": {
        "colab": {
          "base_uri": "https://localhost:8080/"
        },
        "id": "YpYveVWMb561",
        "outputId": "ab54b0a4-c445-4abe-c77f-76a88ca2d646"
      },
      "execution_count": null,
      "outputs": [
        {
          "output_type": "stream",
          "name": "stdout",
          "text": [
            "[[101   4]\n",
            " [  9  57]]\n"
          ]
        }
      ]
    },
    {
      "cell_type": "code",
      "source": [
        "#Các độ đo Acc, Sensitivity, Specificty và Precision\n",
        "#print(classification_report(Y_test, Y_pred_test))\n",
        "acc = (conf_mat[0,0]+conf_mat[1,1])/np.sum(conf_mat)\n",
        "sensitivity = conf_mat[1,1]/(conf_mat[1,0]+conf_mat[1,1])\n",
        "specificity = conf_mat[0,0]/(conf_mat[0,0]+conf_mat[0,1])\n",
        "print(\"Acc: {}\", format(np.round(acc,3)))\n",
        "print(\"Sensitivity: \", format(np.round(sensitivity,3)))\n",
        "print(\"Specificity: \", format(np.round(specificity,3)))"
      ],
      "metadata": {
        "colab": {
          "base_uri": "https://localhost:8080/"
        },
        "id": "wMqjooDgcZQ1",
        "outputId": "015f080d-d2a6-4ef0-8193-87283f1bb8f7"
      },
      "execution_count": null,
      "outputs": [
        {
          "output_type": "stream",
          "name": "stdout",
          "text": [
            "Acc: {} 0.924\n",
            "Sensitivity:  0.864\n",
            "Specificity:  0.962\n"
          ]
        }
      ]
    },
    {
      "cell_type": "markdown",
      "source": [
        "Ngưỡng cutoff"
      ],
      "metadata": {
        "id": "oLObmT1Nd_8n"
      }
    },
    {
      "cell_type": "code",
      "source": [
        "#Output dự đoán sẽ là xác suất đầu ra\n",
        "Y_pred_test_prob = LL.predict_proba(X_test)[:,1]\n",
        "Y_pred_test_prob\n"
      ],
      "metadata": {
        "colab": {
          "base_uri": "https://localhost:8080/"
        },
        "id": "7HAjc-_ReDb1",
        "outputId": "44aa5e77-e481-4d62-a46f-e0c6a6f7cda4"
      },
      "execution_count": null,
      "outputs": [
        {
          "output_type": "execute_result",
          "data": {
            "text/plain": [
              "array([7.37900636e-02, 8.17136658e-05, 4.35440639e-02, 1.41156650e-02,\n",
              "       2.19273567e-03, 4.52073400e-03, 9.38638943e-01, 1.87945441e-03,\n",
              "       9.99999999e-01, 9.99994355e-01, 9.99999999e-01, 2.68123982e-02,\n",
              "       5.38430631e-03, 3.91389445e-02, 2.93661721e-03, 9.99999999e-01,\n",
              "       2.13252326e-04, 3.61955705e-03, 6.63728950e-04, 9.99991377e-01,\n",
              "       3.84496291e-03, 9.89252448e-01, 9.99999998e-01, 1.00000000e+00,\n",
              "       9.99999993e-01, 3.20805396e-01, 9.96379844e-01, 2.67306953e-03,\n",
              "       1.35854839e-03, 2.27875852e-03, 1.29230573e-02, 1.10246440e-03,\n",
              "       9.98661796e-01, 1.23006840e-02, 8.25894368e-02, 1.83723814e-02,\n",
              "       8.79647722e-03, 9.85774300e-01, 8.16932945e-01, 1.38625286e-03,\n",
              "       9.99943478e-01, 7.79491003e-03, 1.00000000e+00, 1.54189666e-01,\n",
              "       1.01242637e-01, 2.75808964e-03, 2.11649482e-03, 1.58918181e-01,\n",
              "       1.00000000e+00, 9.93101644e-02, 5.71553899e-02, 7.26501840e-03,\n",
              "       4.52960042e-03, 9.99999970e-01, 6.42737098e-01, 3.56721163e-04,\n",
              "       1.24177546e-03, 3.31007640e-05, 8.39838170e-03, 9.87018105e-01,\n",
              "       5.76142586e-03, 8.85462242e-03, 5.98065940e-02, 6.56124773e-04,\n",
              "       3.22641984e-03, 9.99719542e-01, 1.00000000e+00, 2.61713632e-03,\n",
              "       1.30216822e-03, 4.85704065e-01, 2.29503736e-04, 9.99999681e-01,\n",
              "       3.85507019e-04, 3.19569052e-01, 1.65026353e-03, 4.74409755e-03,\n",
              "       4.41851754e-04, 9.99999954e-01, 1.88860146e-03, 9.91262446e-01,\n",
              "       8.84121149e-04, 1.39932818e-03, 3.27548945e-03, 4.70756212e-02,\n",
              "       9.78493590e-01, 9.99815837e-01, 9.99952980e-01, 9.99990440e-01,\n",
              "       7.41822626e-02, 1.17708893e-01, 5.69425417e-04, 3.24971854e-02,\n",
              "       6.94717269e-04, 1.00000000e+00, 8.78499861e-01, 1.78957297e-02,\n",
              "       2.51452772e-03, 9.22204033e-02, 1.26048053e-03, 1.32018525e-02,\n",
              "       9.99999946e-01, 1.00000000e+00, 1.94641570e-03, 4.95785275e-04,\n",
              "       9.98369916e-01, 1.28321197e-03, 2.17084400e-04, 9.98976678e-01,\n",
              "       8.41339054e-01, 7.72808601e-02, 9.99979830e-01, 5.04926308e-01,\n",
              "       9.98732061e-01, 1.00000000e+00, 1.20239114e-01, 4.33305359e-03,\n",
              "       1.35120363e-03, 9.98381078e-01, 9.26370314e-05, 4.22551984e-01,\n",
              "       1.69183879e-04, 4.05503328e-02, 5.28095756e-03, 1.29678914e-03,\n",
              "       1.00000000e+00, 7.17060696e-03, 9.85790672e-01, 9.72125739e-01,\n",
              "       4.40546540e-03, 4.49480929e-02, 5.92158249e-01, 3.83986370e-03,\n",
              "       1.00000000e+00, 2.49195156e-03, 9.13545466e-01, 8.20258440e-03,\n",
              "       1.70364418e-02, 6.87936630e-01, 2.00660450e-03, 8.26209470e-01,\n",
              "       6.22825479e-06, 9.99999998e-01, 8.87999849e-01, 2.05707921e-03,\n",
              "       7.10439703e-01, 1.30227427e-02, 1.47546265e-01, 6.22639729e-03,\n",
              "       9.50329568e-01, 4.47431586e-01, 4.88657623e-02, 7.11543407e-04,\n",
              "       9.99998426e-01, 5.09363986e-02, 2.19963625e-03, 6.01823000e-01,\n",
              "       2.04632507e-02, 9.99991354e-01, 1.00000000e+00, 5.09659540e-01,\n",
              "       1.41149811e-02, 5.92743127e-03, 9.99999240e-01, 1.65386652e-02,\n",
              "       4.96936262e-02, 9.85351236e-01, 7.79730964e-03, 8.67759634e-02,\n",
              "       1.16089313e-03, 2.75366975e-03, 6.75751454e-01])"
            ]
          },
          "metadata": {},
          "execution_count": 14
        }
      ]
    },
    {
      "cell_type": "code",
      "source": [
        "cutoff=0.6 #ngưỡng cutoff 0.7\n",
        "Y_pred_test_val = (Y_pred_test_prob>cutoff).astype(int)\n",
        "conf_mat2 = confusion_matrix(Y_test, Y_pred_test_val)\n",
        "print(conf_mat2)\n",
        "print(classification_report(Y_test, Y_pred_test_val))"
      ],
      "metadata": {
        "colab": {
          "base_uri": "https://localhost:8080/"
        },
        "id": "-DLzZhRieg8J",
        "outputId": "3ecbe792-f058-409d-b188-d3907fd21fad"
      },
      "execution_count": null,
      "outputs": [
        {
          "output_type": "stream",
          "name": "stdout",
          "text": [
            "[[104   1]\n",
            " [  9  57]]\n",
            "              precision    recall  f1-score   support\n",
            "\n",
            "           0       0.92      0.99      0.95       105\n",
            "           1       0.98      0.86      0.92        66\n",
            "\n",
            "    accuracy                           0.94       171\n",
            "   macro avg       0.95      0.93      0.94       171\n",
            "weighted avg       0.94      0.94      0.94       171\n",
            "\n"
          ]
        }
      ]
    },
    {
      "cell_type": "markdown",
      "source": [
        "Đường cong ROC"
      ],
      "metadata": {
        "id": "eoHQtu1efXQv"
      }
    },
    {
      "cell_type": "code",
      "source": [
        "#Khởi tạo lưới\n",
        "cutoff_grid = np.linspace(0.0,1.0, 100)\n",
        "TPR_grid = []\n",
        "FPR_grid = []"
      ],
      "metadata": {
        "id": "BMRfGdBXfTBO"
      },
      "execution_count": null,
      "outputs": []
    },
    {
      "cell_type": "code",
      "source": [
        "for cutoff in cutoff_grid:\n",
        "    Y_pred_test_val = (Y_pred_test_prob>cutoff).astype(int)\n",
        "    conf_mat2 = confusion_matrix(Y_test, Y_pred_test_val)\n",
        "    sensitivity = conf_mat2[1,1]/(conf_mat2[1,0]+conf_mat2[1,1])\n",
        "    specificity = conf_mat2[0,0]/(conf_mat2[0,0]+conf_mat2[0,1])\n",
        "    TPR_grid.append(sensitivity)\n",
        "    FPR_grid.append(1-specificity)"
      ],
      "metadata": {
        "id": "S4XubuHgfmV3"
      },
      "execution_count": null,
      "outputs": []
    },
    {
      "cell_type": "code",
      "source": [
        "plt.plot(FPR_grid, TPR_grid,c='red',linewidth=1.0)\n",
        "plt.xlabel(\"False Positive Rate\")\n",
        "plt.ylabel(\"True Positive Rate\")\n",
        "plt.title(\"ROC Curve\")\n",
        "plt.show()"
      ],
      "metadata": {
        "colab": {
          "base_uri": "https://localhost:8080/",
          "height": 472
        },
        "id": "AIIyNT-Afz10",
        "outputId": "fea99118-2052-41dd-c9b1-b975c6e96dad"
      },
      "execution_count": null,
      "outputs": [
        {
          "output_type": "display_data",
          "data": {
            "text/plain": [
              "<Figure size 640x480 with 1 Axes>"
            ],
            "image/png": "[encoded data removed]"
          },
          "metadata": {}
        }
      ]
    },
    {
      "cell_type": "markdown",
      "source": [
        "ROC và AUC bằng thư viện sklearn"
      ],
      "metadata": {
        "id": "ySGGfwkJgEbs"
      }
    },
    {
      "cell_type": "code",
      "source": [
        "FPR, TPR,cutoff = roc_curve(Y_test, Y_pred_test_prob,pos_label=1)\n",
        "plt.plot(FPR, TPR,c='red',linewidth=1.0)\n",
        "plt.xlabel(\"False Positive Rate\")\n",
        "plt.ylabel(\"True Positive Rate\")\n",
        "plt.title(\"ROC Curve\")"
      ],
      "metadata": {
        "colab": {
          "base_uri": "https://localhost:8080/",
          "height": 490
        },
        "id": "BlZRrrMRgJku",
        "outputId": "00ac8440-c0ab-4a60-e5c3-1b59212b161f"
      },
      "execution_count": null,
      "outputs": [
        {
          "output_type": "execute_result",
          "data": {
            "text/plain": [
              "Text(0.5, 1.0, 'ROC Curve')"
            ]
          },
          "metadata": {},
          "execution_count": 59
        },
        {
          "output_type": "display_data",
          "data": {
            "text/plain": [
              "<Figure size 640x480 with 1 Axes>"
            ],
            "image/png": "[encoded data removed]"
          },
          "metadata": {}
        }
      ]
    },
    {
      "cell_type": "code",
      "source": [
        "acu = roc_auc_score(Y_test, Y_pred_test_prob)\n",
        "print(acu)"
      ],
      "metadata": {
        "colab": {
          "base_uri": "https://localhost:8080/"
        },
        "id": "f4rMHB51gka2",
        "outputId": "bb2bcef7-5606-4666-c7c1-586ac879ca3a"
      },
      "execution_count": null,
      "outputs": [
        {
          "output_type": "stream",
          "name": "stdout",
          "text": [
            "0.9977954144620812\n"
          ]
        }
      ]
    }
  ]
}