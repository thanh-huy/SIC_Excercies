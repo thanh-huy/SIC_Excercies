{
 "cells": [
  {
   "cell_type": "markdown",
   "id": "9c19f40d-bf2a-460b-93a2-b805f97a0a3f",
   "metadata": {},
   "source": [
    "# Làm quen với Python và Markdown"
   ]
  },
  {
   "cell_type": "markdown",
   "id": "64d92c12-7f8f-41e1-a310-41258d243831",
   "metadata": {},
   "source": [
    "## 1. Các ký hiệu cơ bản trên Markdown"
   ]
  },
  {
   "cell_type": "markdown",
   "id": "dc4bb1fe-04b8-4a05-b079-3a9e326d6d0a",
   "metadata": {},
   "source": [
    "### Công thức toán với LaTex\n",
    "- Diện tích đường tròn $S = \\pi r^2$\n",
    "- Các công thức sử dụng ký hiệu và cú pháp của Latex $P(x) = \\int_{-\\infty}^x f(x) dx$"
   ]
  },
  {
   "cell_type": "markdown",
   "id": "2c26df6c-4994-4ca2-957c-94472e64162e",
   "metadata": {},
   "source": [
    "*Font chữ Italic*\n",
    "**Font chữ Bold**\n"
   ]
  },
  {
   "cell_type": "markdown",
   "id": "fe3c94d0-761d-444d-8c99-bb6acdf98238",
   "metadata": {},
   "source": [
    "# Tiêu đề mức 1\n",
    "## Tiêu đề mức 2\n",
    "### Tiêu đề mức 3\n",
    "#### Tiêu đề mức 4"
   ]
  },
  {
   "cell_type": "markdown",
   "id": "43fa9677-4735-4870-aa37-2c91352ad3e3",
   "metadata": {},
   "source": [
    "**[Liên kết Hyperlink](google.com)**"
   ]
  },
  {
   "cell_type": "markdown",
   "id": "a5441cc7-11d0-40ff-a677-5ae362572bdb",
   "metadata": {},
   "source": [
    "Tạo danh sách List\n",
    "1. Mục 1\n",
    "2. Mục 2"
   ]
  },
  {
   "cell_type": "markdown",
   "id": "7530debb-a1ed-464b-a77e-2c11de158c68",
   "metadata": {},
   "source": [
    "> Tạo một quote.\n",
    "---\n",
    "> Tạo một quote sau đường kẻ ngang."
   ]
  },
  {
   "cell_type": "markdown",
   "id": "a764dd53-3152-40e6-8f78-32613fd7fcf3",
   "metadata": {},
   "source": [
    "## 2. Làm quen với Python"
   ]
  },
  {
   "cell_type": "code",
   "execution_count": 21,
   "id": "e886e294-ae3c-4e8b-be52-0c67ff4c0dd9",
   "metadata": {},
   "outputs": [
    {
     "name": "stdout",
     "output_type": "stream",
     "text": [
      "Hello World\n"
     ]
    }
   ],
   "source": [
    "#Python là ngôn ngữ dạng kịch bản Scripting languge\n",
    "#Với JupyterNotebook, chạy trên từng cell\n",
    "print('Hello World')"
   ]
  },
  {
   "cell_type": "code",
   "execution_count": 23,
   "id": "71f1061c-c65c-4488-80a4-8b32550a900b",
   "metadata": {},
   "outputs": [
    {
     "data": {
      "text/plain": [
       "8"
      ]
     },
     "execution_count": 23,
     "metadata": {},
     "output_type": "execute_result"
    }
   ],
   "source": [
    "#Các toán tử cơ bản;\n",
    "#Mặc định trên Jupter khi in giá trị không cần phải thêm lệnh print\n",
    "10/3"
   ]
  },
  {
   "cell_type": "code",
   "execution_count": 25,
   "id": "9dd9435f-b22b-4367-8c5e-4eae9a5d2b53",
   "metadata": {},
   "outputs": [
    {
     "data": {
      "text/plain": [
       "1"
      ]
     },
     "execution_count": 25,
     "metadata": {},
     "output_type": "execute_result"
    }
   ],
   "source": [
    "10%3"
   ]
  },
  {
   "cell_type": "code",
   "execution_count": 27,
   "id": "9b762bd6-75dc-4643-b9fc-29332e3cfd9c",
   "metadata": {},
   "outputs": [
    {
     "data": {
      "text/plain": [
       "3"
      ]
     },
     "execution_count": 27,
     "metadata": {},
     "output_type": "execute_result"
    }
   ],
   "source": [
    "10//3"
   ]
  },
  {
   "cell_type": "code",
   "execution_count": 47,
   "id": "ea6ad7f6-631e-4761-b762-3bbe60d231f6",
   "metadata": {},
   "outputs": [
    {
     "data": {
      "text/plain": [
       "8"
      ]
     },
     "execution_count": 47,
     "metadata": {},
     "output_type": "execute_result"
    }
   ],
   "source": [
    "2**3 #Lũy thừa"
   ]
  },
  {
   "cell_type": "code",
   "execution_count": 37,
   "id": "0026a566-a695-4e92-991e-01a01af344c0",
   "metadata": {},
   "outputs": [
    {
     "name": "stdout",
     "output_type": "stream",
     "text": [
      "32\n"
     ]
    }
   ],
   "source": [
    "#Lặp trong tập hợp\n",
    "s=0\n",
    "for i in [3,4,9,5,11]:\n",
    "    s+=i\n",
    "print(s)"
   ]
  },
  {
   "cell_type": "code",
   "execution_count": 41,
   "id": "917770c3-5a52-45a0-96e1-230c04d61fa4",
   "metadata": {},
   "outputs": [
    {
     "name": "stdout",
     "output_type": "stream",
     "text": [
      "2 3 4 5 6 7 8 9 "
     ]
    }
   ],
   "source": [
    "#Cú pháp lặp for i inrange (start, stop, step):\n",
    "for i in range(2,10):\n",
    "    print(i, end=\" \")"
   ]
  },
  {
   "cell_type": "code",
   "execution_count": 45,
   "id": "bba13b83-6bbd-44ea-99c2-1bebd31fa587",
   "metadata": {},
   "outputs": [
    {
     "name": "stdout",
     "output_type": "stream",
     "text": [
      "x là số chẵn\n"
     ]
    }
   ],
   "source": [
    "#rẽ nhánh và bitwise\n",
    "x = 10;\n",
    "if x&1:\n",
    "    print(\"x là số lẻ\")\n",
    "else:\n",
    "    print(\"x là số chẵn\")"
   ]
  },
  {
   "cell_type": "code",
   "execution_count": null,
   "id": "4fba4355-aa56-403f-b1ea-6e30d7397b77",
   "metadata": {},
   "outputs": [],
   "source": []
  }
 ],
 "metadata": {
  "kernelspec": {
   "display_name": "Python 3 (ipykernel)",
   "language": "python",
   "name": "python3"
  },
  "language_info": {
   "codemirror_mode": {
    "name": "ipython",
    "version": 3
   },
   "file_extension": ".py",
   "mimetype": "text/x-python",
   "name": "python",
   "nbconvert_exporter": "python",
   "pygments_lexer": "ipython3",
   "version": "3.12.4"
  }
 },
 "nbformat": 4,
 "nbformat_minor": 5
}
